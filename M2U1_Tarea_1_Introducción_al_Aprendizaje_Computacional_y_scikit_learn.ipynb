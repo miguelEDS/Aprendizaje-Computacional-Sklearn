{
  "nbformat": 4,
  "nbformat_minor": 0,
  "metadata": {
    "colab": {
      "provenance": [],
      "collapsed_sections": [
        "WNqJXw7jVlFP",
        "oZV9w_tYXD_u",
        "pXXcFvaPXPE4",
        "QrU5ELZuMyF6",
        "B4Zv4dF3ieMk"
      ],
      "toc_visible": true
    },
    "kernelspec": {
      "name": "python3",
      "display_name": "Python 3"
    },
    "language_info": {
      "name": "python"
    }
  },
  "cells": [
    {
      "cell_type": "markdown",
      "metadata": {
        "id": "mLlSr7BaKSLF"
      },
      "source": [
        "<img src = \"https://drive.google.com/uc?export=view&id=1Jv3o3mNsR42VNsXVJEwasefophZ-TeD9\" alt = \"Encabezado MLDS\" width = \"100%\">  </img>"
      ]
    },
    {
      "cell_type": "markdown",
      "metadata": {
        "id": "fEewD2N0RkMc"
      },
      "source": [
        "# **Tarea 1: Clasificación lineal con *Scikit-Learn***\n",
        "---\n",
        "\n",
        "En esta tarea deberá entrenar modelos de clasificación con regresión logística para el [conjunto de datos de flores Iris](https://archive.ics.uci.edu/ml/datasets/iris) del repositorio de la *UCI* usando *Scikit-learn*.\n",
        "\n",
        "El conjunto de datos cuenta con información de medidas en flores *Iris* de tres especies distintas:\n",
        "\n",
        "| Variable | Definición\t| Valores |\n",
        "| --- | --- | --- |\n",
        "| sepal_length | \tLongitud del sépalo en centímetros. | \tnumérico |\n",
        "| sepal_width \t|  Ancho del sépalo en centímetros. | \tnumérico\n",
        "| petal_length \t| Longitud del pétalo en centímetros. \t| numérico|\n",
        "| petal_width |\tAncho del pétalo en centímetros. \t| numérico|\n",
        "| label |\tEtiqueta con la especie de la flor medida.\t| 'setosa', 'virginica' y 'versicolor' |\n",
        "\n",
        "\n",
        "> **Nota:** Esta tarea va a ser calificada en la plataforma **[UNCode](https://juezun.github.io/)**. Para esto, en cada ejercicio se indicará si es calificable o no, también los lugares donde debe escribir su código sin modificar lo demás con un aproximado de cantidad de líneas a escribir. No se preocupe si su código toma más líneas, esto es simplemente un aproximado destinado a que pueda replantear su estrategia si el código está tomando más de las esperadas. No es un requisito estricto y soluciones más largas también son válidas. Al finalizar, para realizar el envío (*submission*), descargue el notebook como un archivo **`.ipynb`** y haga su entrega a través de **Moodle**.\n",
        ">\n",
        "> **La tarea es incremental, es recomendable resolver los puntos en orden.**\n"
      ]
    },
    {
      "cell_type": "markdown",
      "metadata": {
        "id": "S-ocd--frFi7"
      },
      "source": [
        "Ejecute la siguiente celda para importar y configurar las librerías usadas:"
      ]
    },
    {
      "cell_type": "code",
      "metadata": {
        "id": "PIB7qeOuVkfh",
        "colab": {
          "base_uri": "https://localhost:8080/"
        },
        "outputId": "e72057b2-6d1b-4c31-fd8a-ecde42d58b12"
      },
      "source": [
        "# Actualizamos a la última versión disponible de scikit-learn.\n",
        "!pip install -U scikit-learn\n",
        "\n",
        "# Librerías de utilidad para manipulación y visualización de datos.\n",
        "from numbers import Number\n",
        "import numpy as np\n",
        "import seaborn as sns\n",
        "import matplotlib as mpl\n",
        "import matplotlib.pyplot as plt\n",
        "import sklearn\n",
        "\n",
        "# Ignorar warnings.\n",
        "import warnings\n",
        "warnings.filterwarnings('ignore')"
      ],
      "execution_count": 1,
      "outputs": [
        {
          "output_type": "stream",
          "name": "stdout",
          "text": [
            "Requirement already satisfied: scikit-learn in /usr/local/lib/python3.10/dist-packages (1.2.2)\n",
            "Collecting scikit-learn\n",
            "  Downloading scikit_learn-1.3.1-cp310-cp310-manylinux_2_17_x86_64.manylinux2014_x86_64.whl (10.8 MB)\n",
            "\u001b[2K     \u001b[90m━━━━━━━━━━━━━━━━━━━━━━━━━━━━━━━━━━━━━━━━\u001b[0m \u001b[32m10.8/10.8 MB\u001b[0m \u001b[31m95.7 MB/s\u001b[0m eta \u001b[36m0:00:00\u001b[0m\n",
            "\u001b[?25hRequirement already satisfied: numpy<2.0,>=1.17.3 in /usr/local/lib/python3.10/dist-packages (from scikit-learn) (1.23.5)\n",
            "Requirement already satisfied: scipy>=1.5.0 in /usr/local/lib/python3.10/dist-packages (from scikit-learn) (1.11.2)\n",
            "Requirement already satisfied: joblib>=1.1.1 in /usr/local/lib/python3.10/dist-packages (from scikit-learn) (1.3.2)\n",
            "Requirement already satisfied: threadpoolctl>=2.0.0 in /usr/local/lib/python3.10/dist-packages (from scikit-learn) (3.2.0)\n",
            "Installing collected packages: scikit-learn\n",
            "  Attempting uninstall: scikit-learn\n",
            "    Found existing installation: scikit-learn 1.2.2\n",
            "    Uninstalling scikit-learn-1.2.2:\n",
            "      Successfully uninstalled scikit-learn-1.2.2\n",
            "Successfully installed scikit-learn-1.3.1\n"
          ]
        }
      ]
    },
    {
      "cell_type": "code",
      "metadata": {
        "id": "jUMP_2CPqwRY",
        "colab": {
          "base_uri": "https://localhost:8080/"
        },
        "outputId": "2d6076bd-2d50-4364-87e2-efc8911d28d1"
      },
      "source": [
        "# Versiones de las librerías usadas.\n",
        "\n",
        "!python --version\n",
        "print('NumPy', np.__version__)\n",
        "print('Matplotlib', mpl.__version__)\n",
        "print('Seaborn', sns.__version__)\n",
        "print('Scikit-learn', sklearn.__version__)"
      ],
      "execution_count": 2,
      "outputs": [
        {
          "output_type": "stream",
          "name": "stdout",
          "text": [
            "Python 3.10.12\n",
            "NumPy 1.23.5\n",
            "Matplotlib 3.7.1\n",
            "Seaborn 0.12.2\n",
            "Scikit-learn 1.3.1\n"
          ]
        }
      ]
    },
    {
      "cell_type": "markdown",
      "metadata": {
        "id": "dxNzX3sfq3gZ"
      },
      "source": [
        "Esta actividad se realizó con las siguientes versiones:\n",
        "*  *Python*: 3.7.10\n",
        "*  *NumPy*:  1.19.5\n",
        "*  *Matplotlib*:  3.2.2\n",
        "*  *Seaborn*:  0.11.1\n",
        "*  *Scikit-learn*: 0.24.1"
      ]
    },
    {
      "cell_type": "markdown",
      "metadata": {
        "id": "hjXal-trVEJf"
      },
      "source": [
        "## **1. Cargar Iris en formato `X, y`**\n",
        "---\n",
        "Una tarea esencial al emprender un proceso de modelado de aprendizaje computacional es la obtención y disposición en el formato adecuado de los datos de interés, y la distinción de sus variables de entrada y de predicción.\n",
        "\n",
        "Complete la función **`load_X_y`** de tal manera que cargue el conjunto de datos *Iris* en el formato **`X, y`**. Utilice las librerías de utilidad para la carga de conjuntos de datos de *Scikit-learn*.\n",
        "\n",
        "**`X`** debe corresponder a las características del conjunto de datos *Iris* y **`y`** a las etiquetas.\n",
        "\n",
        "**Salida**:\n",
        "* **`X`**: arreglo de *NumPy* de $2$ dimensiones con las variables de entrada del conjunto de datos *Iris* (longitud y ancho de los pétalos y sépalos de la flor).\n",
        "* **`y`**: arreglo de *NumPy* de $1$ dimensión con la variable de salida del conjunto de datos *Iris* (etiqueta de la especie de la flor)."
      ]
    },
    {
      "cell_type": "code",
      "metadata": {
        "id": "EmbsOv1mVGvl"
      },
      "source": [
        "# FUNCIÓN CALIFICADA load_X_y:\n",
        "\n",
        "# Módulo necesario para realizar el ejercicio.\n",
        "from sklearn import datasets\n",
        "\n",
        "def load_X_y():\n",
        "  \"\"\"\n",
        "  Retorna:\n",
        "    X: arreglo de NumPy de tamaño (150, 4) que representa las\n",
        "            variables de entrada del conjunto Iris.\n",
        "    y: arreglo de NumPy de tamaño (150,) que representa la variable\n",
        "            de salida (etiqueta).\n",
        "  \"\"\"\n",
        "\n",
        "  ### ESCRIBA SU CÓDIGO AQUÍ ### (~ 1 línea de código)\n",
        "\n",
        "  X, y = datasets.load_iris(return_X_y = True)\n",
        "\n",
        "  ### FIN DEL CÓDIGO ###\n",
        "\n",
        "  return X, y"
      ],
      "execution_count": 14,
      "outputs": []
    },
    {
      "cell_type": "markdown",
      "metadata": {
        "id": "oe3zjHQ2uind"
      },
      "source": [
        "Use la siguiente celda para probar su función:"
      ]
    },
    {
      "cell_type": "code",
      "metadata": {
        "id": "oahuxFhPj7ic",
        "colab": {
          "base_uri": "https://localhost:8080/"
        },
        "outputId": "07b6cb83-4539-484a-af89-a6a8085735d3"
      },
      "source": [
        "#TEST_CELL\n",
        "X, y = load_X_y()\n",
        "\n",
        "if isinstance(X, np.ndarray) and isinstance(y, np.ndarray):\n",
        "  print(\"El shape de X es:\", X.shape)\n",
        "  print(\"El shape de y es:\", y.shape)\n",
        "else:\n",
        "  print(\"El tipo de los objetos es incorrecto.\")"
      ],
      "execution_count": 13,
      "outputs": [
        {
          "output_type": "stream",
          "name": "stdout",
          "text": [
            "El shape de X es: (150, 4)\n",
            "El shape de y es: (150,)\n"
          ]
        }
      ]
    },
    {
      "cell_type": "markdown",
      "metadata": {
        "id": "SWjnAGXrsi22"
      },
      "source": [
        "**Salida esperada:**\n",
        "\n",
        " ```\n",
        "El shape de X es: (150, 4)\n",
        "El shape de y es: (150,)\n",
        "```"
      ]
    },
    {
      "cell_type": "markdown",
      "metadata": {
        "id": "7Qc3Co25b2fQ"
      },
      "source": [
        "Ejecute la siguiente celda (después de completar el punto anterior) para visualizar la distribución de etiquetas del conjunto de datos Iris."
      ]
    },
    {
      "cell_type": "code",
      "metadata": {
        "id": "Fxs3wH-dbowE",
        "colab": {
          "base_uri": "https://localhost:8080/",
          "height": 430
        },
        "outputId": "4617d607-db2a-466f-adf9-c4b930ea8718"
      },
      "source": [
        "#TEST_CELL\n",
        "X, y = load_X_y()\n",
        "\n",
        "plt.figure(dpi=100)\n",
        "sns.countplot(x=y);"
      ],
      "execution_count": 5,
      "outputs": [
        {
          "output_type": "display_data",
          "data": {
            "text/plain": [
              "<Figure size 640x480 with 1 Axes>"
            ],
            "image/png": "[encoded data removed]"
          },
          "metadata": {}
        }
      ]
    },
    {
      "cell_type": "markdown",
      "metadata": {
        "id": "J-1x6GbPr4wM"
      },
      "source": [
        "Debería ver un conjunto de datos **equilibrado** con $50$ etiquetas de cada clase ($3$ clases)."
      ]
    },
    {
      "cell_type": "markdown",
      "metadata": {
        "id": "lU_tTMI3CdTN"
      },
      "source": [
        "**Salida esperada:**\n",
        "\n",
        "![u1p1.png](data:image/png;base64,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)"
      ]
    },
    {
      "cell_type": "markdown",
      "metadata": {
        "id": "Mk8rUuvA8cQU"
      },
      "source": [
        "<details>    \n",
        "<summary>\n",
        "    <font size=\"3\" color=\"darkgreen\"><b>Pista 1</b></font>\n",
        "</summary>\n",
        "\n",
        "* Consulte la [lista de conjuntos de datos](https://scikit-learn.org/stable/datasets/toy_dataset.html) disponibles como *loaders* en el módulo **`sklearn.datasets`**.\n"
      ]
    },
    {
      "cell_type": "markdown",
      "metadata": {
        "id": "WNqJXw7jVlFP"
      },
      "source": [
        "\n",
        "## **2. Seleccionar columnas del arreglo `X`**\n",
        "---\n",
        "En el momento de la preparación del conjunto de datos se suele necesitar de la selección de un subconjunto de las características más pertinentes para el modelo del conjunto de datos original.\n",
        "\n",
        "Complete la función **`select_columns`** de tal manera que dado un arreglo (matriz) de *NumPy* **`X`** retorne las columnas incluidas en **`features`**. La variable **`features`** contendrá exclusivamente números entre $0$ y $3$ (inclusivo) sin repeticiones, representando el índice o posición de las columnas deseadas.\n",
        "\n",
        "\n",
        "**Entrada**:\n",
        "* **`X`**: arreglo de *NumPy* de tamaño $(n, 4)$.\n",
        "* **`features`**: lista de números enteros entre $0$ y $3$ de tamaño $m$.\n",
        "\n",
        "**Salida**:\n",
        "* **`X_selected`** arreglo de *Numpy* de tamaño $(n, m)$ con únicamente las columnas **`features`** del arreglo **`X`** en el mismo orden de entrada."
      ]
    },
    {
      "cell_type": "code",
      "source": [
        "X[:6, 3]"
      ],
      "metadata": {
        "colab": {
          "base_uri": "https://localhost:8080/"
        },
        "id": "5i55DTdtCelE",
        "outputId": "fd772a07-ae83-46c8-b914-48d9c4f93eb4"
      },
      "execution_count": 38,
      "outputs": [
        {
          "output_type": "execute_result",
          "data": {
            "text/plain": [
              "array([0.2, 0.2, 0.2, 0.2, 0.2, 0.4])"
            ]
          },
          "metadata": {},
          "execution_count": 38
        }
      ]
    },
    {
      "cell_type": "code",
      "metadata": {
        "id": "k0LuhBFnYqx7"
      },
      "source": [
        "# FUNCIÓN CALIFICADA select_columns:\n",
        "\n",
        "def select_columns(X, features):\n",
        "  \"\"\"\n",
        "    X: una matriz de datos en un arreglo de numpy con tamaño (n, 4)\n",
        "    features: una lista de números entre 0 y 3.\n",
        "  Retorna:\n",
        "    X_selected: una matriz con tamaño (n, m) donde 'n' corresponde al número de ejemplos\n",
        "    y 'm' corresponde al número de características.\n",
        "  \"\"\"\n",
        "  ### ESCRIBA SU CÓDIGO AQUÍ ### (~ 1 línea de código)\n",
        "\n",
        "  X_selected = X[:,features]\n",
        "\n",
        "  ### FIN DEL CÓDIGO ###\n",
        "  return X_selected"
      ],
      "execution_count": 39,
      "outputs": []
    },
    {
      "cell_type": "code",
      "metadata": {
        "id": "SP8BcZM4mtdy",
        "colab": {
          "base_uri": "https://localhost:8080/"
        },
        "outputId": "5b792ee3-d187-4072-d2c9-61a126e67fd4"
      },
      "source": [
        "#TEST_CELL\n",
        "X_total = np.empty(shape = (300, 6))\n",
        "\n",
        "X_selected = select_columns(X_total, [0, 4])\n",
        "if isinstance(X_selected, np.ndarray):\n",
        "  print('El shape de \"X_selected\" es:', X_selected.shape)\n",
        "else:\n",
        "  print(\"El tipo del objeto es incorrecto.\")"
      ],
      "execution_count": 40,
      "outputs": [
        {
          "output_type": "stream",
          "name": "stdout",
          "text": [
            "El shape de \"X_selected\" es: (300, 2)\n"
          ]
        }
      ]
    },
    {
      "cell_type": "markdown",
      "metadata": {
        "id": "V92DXk53nuP1"
      },
      "source": [
        "**Salida esperada:**\n",
        "```\n",
        "El shape de \"X_selected\" es: (300, 2)\n",
        "```"
      ]
    },
    {
      "cell_type": "markdown",
      "metadata": {
        "id": "ZfhOc_2idU9b"
      },
      "source": [
        "En el conjunto *Iris* las características de entrada corresponden a diferentes medidas de las partes de una flor de esta especie.\n",
        "Considere la siguiente correspondencia entre los índices de las columnas y sus nombres:\n",
        "\n",
        "| # de columna \t| Nombre de la variable \t|\n",
        "|--------\t|-----------------------\t|\n",
        "| 0      \t| 'sepal length (cm)'   \t|\n",
        "| 1      \t| 'sepal width (cm)'    \t|\n",
        "| 2      \t| 'petal length (cm)'   \t|\n",
        "| 3      \t| 'petal width (cm)'    \t|\n",
        "\n",
        "\n",
        "\n",
        "Por ejemplo, para seleccionar las columnas correspondientes a **`sepal width (cm)`** y **`petal width (cm)`** debemos usar los índices $1$ y $3$ del arreglo de la siguiente forma:"
      ]
    },
    {
      "cell_type": "code",
      "metadata": {
        "id": "eLt0Ta7H3MVP",
        "colab": {
          "base_uri": "https://localhost:8080/"
        },
        "outputId": "45590665-17fa-4d99-fb9a-257f158505db"
      },
      "source": [
        "#TEST_CELL\n",
        "\n",
        "# La variable X fue cargada en la celda\n",
        "# de pruebas del ejercicio 1.\n",
        "X, y = load_X_y()\n",
        "\n",
        "# Índices 1 y 3 para las variables sepal width y petal width.\n",
        "X_selected = select_columns(X, [1, 3])\n",
        "\n",
        "if isinstance(X_selected, np.ndarray) and X_selected.shape == (150, 2):\n",
        "  print(f'El shape de X_selected es {X_selected.shape}')\n",
        "  print('Los dos primeros ejemplos:')\n",
        "  print(X_selected[:2, :])\n",
        "else:\n",
        "  print('El resultado obtenido no es un arreglo de NumPy o no tiene el tamaño esperado')"
      ],
      "execution_count": 41,
      "outputs": [
        {
          "output_type": "stream",
          "name": "stdout",
          "text": [
            "El shape de X_selected es (150, 2)\n",
            "Los dos primeros ejemplos:\n",
            "[[3.5 0.2]\n",
            " [3.  0.2]]\n"
          ]
        }
      ]
    },
    {
      "cell_type": "markdown",
      "metadata": {
        "id": "coGGCO4QB38O"
      },
      "source": [
        "**Salida esperada:**\n",
        "```\n",
        "El shape de X_selected es (150, 2)\n",
        "Los dos primeros ejemplos:\n",
        "[[3.5 0.2]\n",
        " [3.  0.2]]\n",
        "```"
      ]
    },
    {
      "cell_type": "code",
      "metadata": {
        "id": "tgLOz3WKd4E-",
        "cellView": "form",
        "colab": {
          "base_uri": "https://localhost:8080/",
          "height": 449
        },
        "outputId": "cd982dcf-796f-4891-81b6-68f035f14c1b"
      },
      "source": [
        "#TEST_CELL\n",
        "#@markdown **Celda de pruebas**\n",
        "#@markdown ***\n",
        "#@markdown Ejecute esta celda para graficar un diagrama de dispersión con las variables **`sepal width (cm)`** y **`petal width (cm)`**.\n",
        "#@markdown > **Nota**: Esta celda contiene código para la generación de visualizaciones y está oculto por defecto (solo para *Google Colaboratory*). Si desea revisar su contenido haga clic secundario en la celda (costado izquierdo de color gris) y seleccione las opciones **`Formulario|Form`** y **`Mostrar código|Show code`**.\n",
        "\n",
        "def scatter_plot(X_selected, y):\n",
        "  if not isinstance(X_selected, np.ndarray) or not isinstance(y, np.ndarray):\n",
        "    print('La función retorna el tipo de dato incorrecto.')\n",
        "    return\n",
        "\n",
        "  plt.figure(dpi=100)\n",
        "  target_names = ['setosa', 'versicolor', 'virginica']\n",
        "  for i, target_name in enumerate(target_names):\n",
        "    ids = y == i\n",
        "    plt.scatter(X_selected[ids,0], X_selected[ids,1], label=target_name)\n",
        "  plt.ylabel('petal width')\n",
        "  plt.xlabel('sepal width')\n",
        "  plt.legend()\n",
        "\n",
        "X, y = load_X_y()\n",
        "X_selected = select_columns(X, [1, 3])\n",
        "\n",
        "if X_selected is not None and y is not None:\n",
        "  scatter_plot(X_selected, y)\n",
        "else: print(\"Los objetos 'X_selected' y 'y' no han sido declarados correctamente.\" )"
      ],
      "execution_count": 42,
      "outputs": [
        {
          "output_type": "display_data",
          "data": {
            "text/plain": [
              "<Figure size 640x480 with 1 Axes>"
            ],
            "image/png": "[encoded data removed]"
          },
          "metadata": {}
        }
      ]
    },
    {
      "cell_type": "markdown",
      "metadata": {
        "id": "94wQRCruCZVR"
      },
      "source": [
        "**Salida esperada:**\n",
        "\n",
        "![u1p2.png](data:image/png;base64,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)"
      ]
    },
    {
      "cell_type": "markdown",
      "metadata": {
        "id": "STfQSRA1XsxY"
      },
      "source": [
        "<details>    \n",
        "<summary>\n",
        "    <font size=\"3\" color=\"darkgreen\"><b>Pista 1</b></font>\n",
        "</summary>\n",
        "\n",
        "Se puede acceder a el elemento de la fila **`i`** y en la columna **`j`** de un arreglo de *NumPy* con el siguiente sintaxis: **`X[i,j]`**.\n"
      ]
    },
    {
      "cell_type": "markdown",
      "metadata": {
        "id": "6J0Tp3UYYaX2"
      },
      "source": [
        "<details>    \n",
        "<summary>\n",
        "    <font size=\"3\" color=\"darkgreen\"><b>Pista 2</b></font>\n",
        "</summary>\n",
        "\n",
        "Se puede acceder a la columna **`j`** de un arreglo de *NumPy* con la siguiente sintaxis: **`X[:,j]`**.\n"
      ]
    },
    {
      "cell_type": "markdown",
      "metadata": {
        "id": "eWU7ySItYnBU"
      },
      "source": [
        "<details>    \n",
        "<summary>\n",
        "    <font size=\"3\" color=\"darkgreen\"><b>Pista 3</b></font>\n",
        "</summary>\n",
        "\n",
        "Se puede acceder a una lista de columnas **`cols`** de un arreglo de *NumPy* con el siguiente sintaxis: **`X[:,cols]`** donde **`cols`** es una lista con las características.\n"
      ]
    },
    {
      "cell_type": "markdown",
      "metadata": {
        "id": "oZV9w_tYXD_u"
      },
      "source": [
        "## **3. Convertir características al rango $[a,b]$**\n",
        "---\n",
        "\n",
        "Algunas técnicas de modelado tienen como requisito la ejecución de tareas de preprocesamiento, como el reescalado o normalización de los datos originales, para obtener los resultados esperados.\n",
        "\n",
        "Complete la función **`minmax`** para convertir las columnas de **`X`** al rango **`[min_value, max_value]`** de manera independiente.\n",
        "\n",
        "**Entrada**:\n",
        "* **`X`**: arreglo de *NumPy* de tamaño $(n, m)$.\n",
        "* **`min_value`**: número real con el valor mínimo requerido de la matriz de salida generada.\n",
        "* **`max_value`**: número real con el valor máximo requerido de la matriz de salida generada.\n",
        "\n",
        "**Salida**:\n",
        "* **`X_scaled`**: arreglo de *NumPy* con shape $(n, m)$ correspondiente a **`X`** donde cada columna ha sido transformada al rango **`[min_value, max_value]`** de manera independiente.\n"
      ]
    },
    {
      "cell_type": "code",
      "metadata": {
        "id": "Qbi3kogAZzA4"
      },
      "source": [
        "# FUNCIÓN CALIFICADA minmax:\n",
        "\n",
        "# Módulo necesario para realizar el ejercicio.\n",
        "from sklearn import preprocessing\n",
        "\n",
        "def minmax(X, min_value, max_value):\n",
        "  \"\"\"\n",
        "    X: una matriz de datos, arreglo de NumPy con shape (n, m)\n",
        "    min_value: número real con el valor mínimo requerido.\n",
        "    max_value: número real con el valor máximo requerido.\n",
        "  Retorna:\n",
        "    X_scaled: un nuevo arreglo de NumPy con shape (n, m)\n",
        "    correspondiente a X donde cada columna ha sido transformada al rango\n",
        "    [min_value, max_value] de manera independiente\n",
        "  \"\"\"\n",
        "  ### ESCRIBA SU CÓDIGO AQUÍ ### (~ 3 líneas de código)\n",
        "  scaler = preprocessing.MinMaxScaler(feature_range=(min_value, max_value))\n",
        "  X_scaled = scaler.fit_transform(X)\n",
        "\n",
        "  ### FIN DEL CÓDIGO ###\n",
        "\n",
        "  return X_scaled"
      ],
      "execution_count": 92,
      "outputs": []
    },
    {
      "cell_type": "markdown",
      "metadata": {
        "id": "jgqOulQauZH0"
      },
      "source": [
        "Use la siguiente celda para probar la transformación:"
      ]
    },
    {
      "cell_type": "code",
      "metadata": {
        "id": "XM9ZxsZhganl",
        "colab": {
          "base_uri": "https://localhost:8080/"
        },
        "outputId": "26156c75-ae0e-4f0a-e512-9705990053b5"
      },
      "source": [
        "#TEST_CELL\n",
        "\n",
        "# Arreglo de tamaño (50, 2) con valores\n",
        "# enteros aleatorios entre -100 y 100.\n",
        "X_example = np.random.randint(-100, 100,\n",
        "                               size = (50, 2))\n",
        "# Realizamos el escalado\n",
        "X_minmax = minmax(X_example, 0, 1)\n",
        "\n",
        "if isinstance(X_minmax, np.ndarray):\n",
        "  print(f\"Valor mínimo columna 0: {np.min(X_minmax[:, 0])}\")\n",
        "  print(f\"Valor máximo columna 0: {np.max(X_minmax[:, 0])}\")\n",
        "  print(f\"Valor mínimo columna 1: {np.min(X_minmax[:, 1])}\")\n",
        "  print(f\"Valor máximo columna 1: {np.max(X_minmax[:, 1])}\")\n",
        "\n",
        "else:\n",
        "  print(\"La función no retorna un arreglo de NumPy válido.\")"
      ],
      "execution_count": 93,
      "outputs": [
        {
          "output_type": "stream",
          "name": "stdout",
          "text": [
            "Valor mínimo columna 0: 0.0\n",
            "Valor máximo columna 0: 1.0\n",
            "Valor mínimo columna 1: 0.0\n",
            "Valor máximo columna 1: 1.0\n"
          ]
        }
      ]
    },
    {
      "cell_type": "markdown",
      "metadata": {
        "id": "9C_q8hB4BXQ0"
      },
      "source": [
        "**Salida esperada:**\n",
        "```\n",
        "Valor mínimo columna 0: 0.0\n",
        "Valor máximo columna 0: 1.0\n",
        "Valor mínimo columna 1: 0.0\n",
        "Valor máximo columna 1: 1.0\n",
        "```"
      ]
    },
    {
      "cell_type": "markdown",
      "metadata": {
        "id": "czaBLzWZVM_-"
      },
      "source": [
        "<details>    \n",
        "<summary>\n",
        "    <font size=\"3\" color=\"darkgreen\"><b>Pista</b></font>\n",
        "</summary>\n",
        "\n",
        "\n",
        "* No es necesario realizar el escalado con un proceso independiente para cada columna. Puede utilizar la función [**`MinMaxScaler`**](https://scikit-learn.org/stable/modules/generated/sklearn.preprocessing.MinMaxScaler.html) del módulo **`sklearn.preprocessing`** para realizar este proceso automáticamente sobre un arreglo de *NumPy*, tal como se vio en el taller guiado.\n"
      ]
    },
    {
      "cell_type": "markdown",
      "metadata": {
        "id": "pXXcFvaPXPE4"
      },
      "source": [
        "##  **4. Generar particiones de entrenamiento y prueba**\n",
        "---\n",
        "Al realizar algoritmos de aprendizaje supervisado es importante separar una parte de los datos, que no serán usados en el entrenamiento, para evaluar el desempeño del modelo.\n",
        "\n",
        "Complete la función **`get_split`** de tal manera que haga una partición de los datos en los conjuntos de entrenamiento y prueba usando *Scikit-learn*.\n",
        "\n",
        "> **Nota:** La función creada deberá aceptar un argumento para definir el tamaño relativo de la partición de prueba (**`p`**) y otro para definir la semilla aleatoria (**`random_state`**) para garantizar la reproducibilidad.\n",
        "\n",
        "**Entrada**:\n",
        "\n",
        "* **`X`**: arreglo de *NumPy* de tamaño $(n, m)$.\n",
        "* **`y`**: arreglo de *NumPy* de tamaño $(n, )$.\n",
        "* **`p`**: número real entre $0$ y $1$ con la proporción correspondiente a la partición de prueba.\n",
        "* **`random_state`**: número real con la semilla aleatoria para la generación de la partición.\n",
        "\n",
        "**Salida**:\n",
        "* **`X_train`**: arreglo de *NumPy* con *shape* aproximado $(n\\cdot (1-p), m)$ para la partición de entrenamiento de **`X`**.\n",
        "* **`X_test`**:  arreglo de *NumPy* con *shape* aproximado $(n\\cdot p, m)$ para la partición de prueba de **`X`**.\n",
        "* **`y_train`**: arreglo de *NumPy* con *shape* aproximado $(n \\cdot (1-p),)$ para la partición de entrenamiento de **`y`**.\n",
        "* **`y_test`**:  arreglo de *NumPy* con *shape* aproximado $(n\\cdot p,)$ para la partición de prueba de **`y`**.\n",
        "\n"
      ]
    },
    {
      "cell_type": "code",
      "metadata": {
        "id": "Kb_Fg2knB9wZ"
      },
      "source": [
        "# FUNCIÓN CALIFICADA get_split:\n",
        "\n",
        "# Módulo necesario para realizar el ejercicio.\n",
        "from sklearn import model_selection\n",
        "\n",
        "def get_split(X, y,\n",
        "# ¡No modifique los valores por defecto de los argumentos!\n",
        "              p=0.3, random_state=100):\n",
        "\n",
        "  \"\"\"\n",
        "    X: una matriz de datos, arreglo de numpy con shape (n, m)\n",
        "    y: un vector de etiquetas, arreglo de numpy con shape (n,)\n",
        "    p: proporción de los datos para la partición de prueba, número real entre 0 y 1.\n",
        "    random_state: semilla aleatoria.\n",
        "\n",
        "  Retorna:\n",
        "    X_train: arreglo de numpy con shape aproximado (n(1 - p), m) para la partición de entrenamiento de X\n",
        "    X_test:  arreglo de numpy con shape aproximado (n(p), m) para la partición de prueba de X\n",
        "    y_train: arreglo de numpy con shape aproximado (n(1 - p),) para la partición de entrenamiento de y\n",
        "    y_test:  arreglo de numpy con shape aproximado (n(p),) para la partición de prueba de y\n",
        "  \"\"\"\n",
        "  ### ESCRIBA SU CÓDIGO AQUÍ ### (~ 2 líneas de código)\n",
        "\n",
        "  X_train, X_test, y_train, y_test = model_selection.train_test_split(X,\n",
        "                                                      y,\n",
        "                                                      test_size = p,\n",
        "                                                      random_state = random_state)\n",
        "\n",
        "  ### FIN DEL CÓDIGO ###\n",
        "\n",
        "  return X_train, X_test, y_train, y_test"
      ],
      "execution_count": 54,
      "outputs": []
    },
    {
      "cell_type": "markdown",
      "metadata": {
        "id": "XvZOXF8OFjHe"
      },
      "source": [
        "Use la siguiente celda para probar su partición:"
      ]
    },
    {
      "cell_type": "code",
      "metadata": {
        "id": "TNouhOiFFjHf",
        "colab": {
          "base_uri": "https://localhost:8080/"
        },
        "outputId": "15cf010a-643b-4fd7-bd14-8f52d0723fac"
      },
      "source": [
        "#TEST_CELL\n",
        "X = np.arange(500).reshape(100, 5)\n",
        "y = np.arange(100)\n",
        "\n",
        "X_train, X_test, y_train, y_test = get_split(X, y)\n",
        "\n",
        "if np.all([isinstance(p, np.ndarray) for p in (X_train, X_test, y_train, y_test)]):\n",
        "  print('I. Partición de entrenamiento:\\n')\n",
        "\n",
        "  print(f\"Tamaño de X: {X_train.shape}\")\n",
        "  print(f\"Primeros 5 valores de X:\")\n",
        "  print(X_train[:5, :])\n",
        "\n",
        "  print(f\"\\nTamaño de y: {y_train.shape}\")\n",
        "  print(f\"Primeros 5 valores de y: {y_train[:5]}\")\n",
        "\n",
        "  print('\\nII. Partición de prueba:\\n')\n",
        "  print(f\"Tamaño de X: {X_test.shape}\")\n",
        "\n",
        "  print(f\"Primeros 5 valores de X:\")\n",
        "  print(X_test[:5, :])\n",
        "  print(f\"\\nTamaño de y: {y_test.shape}\")\n",
        "  print(f\"Primeros 5 valores de y: {y_test[:5]}\")\n",
        "else:\n",
        "  print(\"Alguno de los objetos asignado no es un arreglo de NumPy válido.\")"
      ],
      "execution_count": 55,
      "outputs": [
        {
          "output_type": "stream",
          "name": "stdout",
          "text": [
            "I. Partición de entrenamiento:\n",
            "\n",
            "Tamaño de X: (70, 5)\n",
            "Primeros 5 valores de X:\n",
            "[[160 161 162 163 164]\n",
            " [ 30  31  32  33  34]\n",
            " [ 15  16  17  18  19]\n",
            " [ 60  61  62  63  64]\n",
            " [255 256 257 258 259]]\n",
            "\n",
            "Tamaño de y: (70,)\n",
            "Primeros 5 valores de y: [32  6  3 12 51]\n",
            "\n",
            "II. Partición de prueba:\n",
            "\n",
            "Tamaño de X: (30, 5)\n",
            "Primeros 5 valores de X:\n",
            "[[185 186 187 188 189]\n",
            " [310 311 312 313 314]\n",
            " [130 131 132 133 134]\n",
            " [205 206 207 208 209]\n",
            " [175 176 177 178 179]]\n",
            "\n",
            "Tamaño de y: (30,)\n",
            "Primeros 5 valores de y: [37 62 26 41 35]\n"
          ]
        }
      ]
    },
    {
      "cell_type": "markdown",
      "metadata": {
        "id": "_xmwEFfBJ43x"
      },
      "source": [
        "**Salida esperada**:\n",
        "\n",
        "```\n",
        "I. Partición de entrenamiento:\n",
        "\n",
        "Tamaño de X: (70, 5)\n",
        "Primeros 5 valores de X:\n",
        "[[160 161 162 163 164]\n",
        " [ 30  31  32  33  34]\n",
        " [ 15  16  17  18  19]\n",
        " [ 60  61  62  63  64]\n",
        " [255 256 257 258 259]]\n",
        "\n",
        "Tamaño de y: (70,)\n",
        "Primeros 5 valores de y: [32  6  3 12 51]\n",
        "\n",
        "II. Partición de prueba:\n",
        "\n",
        "Tamaño de X: (30, 5)\n",
        "Primeros 5 valores de X:\n",
        "[[185 186 187 188 189]\n",
        " [310 311 312 313 314]\n",
        " [130 131 132 133 134]\n",
        " [205 206 207 208 209]\n",
        " [175 176 177 178 179]]\n",
        "\n",
        "Tamaño de y: (30,)\n",
        "Primeros 5 valores de y: [37 62 26 41 35]\n",
        "```"
      ]
    },
    {
      "cell_type": "markdown",
      "metadata": {
        "id": "ohxc4uRw9Gqb"
      },
      "source": [
        "<details>    \n",
        "<summary>\n",
        "    <font size=\"3\" color=\"darkgreen\"><b>Pista 1</b></font>\n",
        "</summary>\n",
        "\n",
        "\n",
        "* Utilice la función [**`train_test_split`**](https://scikit-learn.org/stable/modules/generated/sklearn.model_selection.train_test_split.html) del módulo **`sklearn.model_selection`** tal como se vio en el taller guiado.\n"
      ]
    },
    {
      "cell_type": "markdown",
      "metadata": {
        "id": "-ZfSsVlb9NWs"
      },
      "source": [
        "<details>    \n",
        "<summary>\n",
        "    <font size=\"3\" color=\"darkgreen\"><b>Pista 2</b></font>\n",
        "</summary>\n",
        "\n",
        "\n",
        "* El argumento **`p`** permite definir la cantidad de datos usados para el subconjunto de pruebas. Si tiene problemas con el tamaño de la partición puede hacer falta usar este argumento en el llamado de la función de generación de particiones.\n"
      ]
    },
    {
      "cell_type": "markdown",
      "metadata": {
        "id": "gZzpshRRwX6X"
      },
      "source": [
        "<details>    \n",
        "<summary>\n",
        "    <font size=\"3\" color=\"darkgreen\"><b>Pista 3</b></font>\n",
        "</summary>\n",
        "\n",
        "\n",
        "* Considere el argumento **`random_state`** de su función y úselo como argumento de la función de generación de particiones de *Scikit-learn*. Como la partición se hace con un proceso aleatorio, omitir este argumento produciría un valor distinto cada vez que se ejecute.\n"
      ]
    },
    {
      "cell_type": "markdown",
      "metadata": {
        "id": "5lgEUZq_Icve"
      },
      "source": [
        "## **5. Entrenamiento de un modelo de regresión logística**\n",
        "---\n",
        "Una vez se dispone de un conjunto de datos preparado para el entrenamiento, se declara y ejecuta uno de tantos algoritmos de aprendizaje computacional. En nuestro caso queremos predecir el valor de una variable categórica, es decir, realizar un modelo para **clasificación**.\n",
        "\n",
        "Complete la función **`train_logistic_regression`** para que retorne un modelo  **`model`** de regresión logística de *Scikit-learn* entrenado a partir de los arreglos **`X`** y **`y`**.\n",
        "\n",
        "**Entrada**:\n",
        "\n",
        "* **`X`**: arreglo de *NumPy* de tamaño $(n, m)$.\n",
        "* **`y`**: arreglo de *NumPy* de tamaño $(n, )$.\n",
        "\n",
        "\n",
        "**Salida**:\n",
        "\n",
        "* **`model`**: modelo de regresión logística de *Scikit-learn* entrenado a partir de **`X`** y **`y`**.\n",
        "\n",
        "\n"
      ]
    },
    {
      "cell_type": "code",
      "metadata": {
        "id": "FiE5pYa4IEOD"
      },
      "source": [
        "# FUNCIÓN CALIFICADA train_logistic_regression:\n",
        "\n",
        "# Módulo necesario para realizar el ejercicio.\n",
        "from sklearn import linear_model\n",
        "\n",
        "def train_logistic_regression (X, y):\n",
        "  \"\"\"\n",
        "    X: una matriz de datos, arreglo de numpy, arreglo de NumPy con shape (n, m)\n",
        "    y: vector de etiquetas reales, arreglo de NumPy con shape (n,)\n",
        "\n",
        "  Retorna:\n",
        "   model: modelo de regresión logística de tipo LogisticRegression\n",
        "  \"\"\"\n",
        "  ### ESCRIBA SU CÓDIGO AQUÍ ### (~ 3 líneas de código)\n",
        "  m_numeric = linear_model.LogisticRegression()\n",
        "  model = m_numeric.fit(X,y)\n",
        "\n",
        "  ### FIN DEL CÓDIGO ###\n",
        "  return model\n"
      ],
      "execution_count": 57,
      "outputs": []
    },
    {
      "cell_type": "markdown",
      "metadata": {
        "id": "XqDJqyV6JvXm"
      },
      "source": [
        "Use las siguientes celdas para probar su modelo:"
      ]
    },
    {
      "cell_type": "code",
      "metadata": {
        "id": "xGFihPTVI2sv",
        "colab": {
          "base_uri": "https://localhost:8080/"
        },
        "outputId": "5bf3c8aa-00a1-47b7-960f-7daba6921ca8"
      },
      "source": [
        "#TEST_CELL\n",
        "X = np.array([[0], [1], [2], [3], [4], [5]])\n",
        "y = np.array([0, 0, 0, 1, 1, 1])\n",
        "\n",
        "model = train_logistic_regression(X, y)\n",
        "type(model)"
      ],
      "execution_count": 58,
      "outputs": [
        {
          "output_type": "execute_result",
          "data": {
            "text/plain": [
              "sklearn.linear_model._logistic.LogisticRegression"
            ]
          },
          "metadata": {},
          "execution_count": 58
        }
      ]
    },
    {
      "cell_type": "markdown",
      "metadata": {
        "id": "lAaWVvBpJymI"
      },
      "source": [
        "**Salida esperada**:\n",
        "\n",
        "```\n",
        "sklearn.linear_model._logistic.LogisticRegression\n",
        "```"
      ]
    },
    {
      "cell_type": "code",
      "metadata": {
        "id": "V1F5hFMZ-CD2",
        "colab": {
          "base_uri": "https://localhost:8080/"
        },
        "outputId": "4cc81813-5727-410b-d2b8-33023de01260"
      },
      "source": [
        "#TEST_CELL\n",
        "X = np.array([[0], [1], [2], [3], [4], [5]])\n",
        "y = np.array([0, 0, 0, 1, 1, 1])\n",
        "\n",
        "model = train_logistic_regression(X, y)\n",
        "\n",
        "if isinstance(model, linear_model._logistic.LogisticRegression):\n",
        "  for i in np.arange(0, 6, 0.5):\n",
        "    print(f\"Predicción de X = [{i}]: { model.predict([[i]])[0] }\")\n",
        "else:\n",
        "  print(\"El objeto asignado no es un modelo de regresión logística de Scikit-learn.\")"
      ],
      "execution_count": 59,
      "outputs": [
        {
          "output_type": "stream",
          "name": "stdout",
          "text": [
            "Predicción de X = [0.0]: 0\n",
            "Predicción de X = [0.5]: 0\n",
            "Predicción de X = [1.0]: 0\n",
            "Predicción de X = [1.5]: 0\n",
            "Predicción de X = [2.0]: 0\n",
            "Predicción de X = [2.5]: 0\n",
            "Predicción de X = [3.0]: 1\n",
            "Predicción de X = [3.5]: 1\n",
            "Predicción de X = [4.0]: 1\n",
            "Predicción de X = [4.5]: 1\n",
            "Predicción de X = [5.0]: 1\n",
            "Predicción de X = [5.5]: 1\n"
          ]
        }
      ]
    },
    {
      "cell_type": "markdown",
      "metadata": {
        "id": "nhiamWJS-CD3"
      },
      "source": [
        "**Salida esperada:**\n",
        "\n",
        "```\n",
        "Predicción de X = [0.0]: 0\n",
        "Predicción de X = [0.5]: 0\n",
        "Predicción de X = [1.0]: 0\n",
        "Predicción de X = [1.5]: 0\n",
        "Predicción de X = [2.0]: 0\n",
        "Predicción de X = [2.5]: 0\n",
        "Predicción de X = [3.0]: 1\n",
        "Predicción de X = [3.5]: 1\n",
        "Predicción de X = [4.0]: 1\n",
        "Predicción de X = [4.5]: 1\n",
        "Predicción de X = [5.0]: 1\n",
        "Predicción de X = [5.5]: 1\n",
        "```"
      ]
    },
    {
      "cell_type": "markdown",
      "metadata": {
        "id": "5T6GxmiX9kP-"
      },
      "source": [
        "<details>    \n",
        "<summary>\n",
        "    <font size=\"3\" color=\"darkgreen\"><b>Pista 1</b></font>\n",
        "</summary>\n",
        "\n",
        "* Utilice el constructor **`LogisticRegression`** del módulo **`sklearn.linear_model`** tal como se vio en el taller guiado.\n"
      ]
    },
    {
      "cell_type": "markdown",
      "metadata": {
        "id": "dGER6Lv_9ujt"
      },
      "source": [
        "<details>    \n",
        "<summary>\n",
        "    <font size=\"3\" color=\"darkgreen\"><b>Pista 2</b></font>\n",
        "</summary>\n",
        "\n",
        "* No olvide entrenar su modelo con la función **`fit`**. De lo contrario, es posible que la predicción de la celda de pruebas falle.\n"
      ]
    },
    {
      "cell_type": "markdown",
      "metadata": {
        "id": "rEJ0lz3uXVmx"
      },
      "source": [
        "## **6. Evaluación del desempeño del modelo**\n",
        "---\n",
        "Finalmente, podemos utilizar los datos reservados de la partición de prueba para evaluar la exactitud o *accuracy* del modelo en la clasificación de entradas nunca antes vistas.\n",
        "\n",
        "Complete la función **`evaluate_model`** para que retorne la exactitud de un modelo **`model`** sobre los arreglos **`X_test`** y **`y_test`**.\n",
        "\n",
        "**Entrada**:\n",
        "\n",
        "* **`model`**: modelo de regresión logística de *Scikit-learn* previamente entrenado.\n",
        "* **`X_test`**: arreglo de tamaño $(n, m)$ con las variables de entrada del conjunto de pruebas.\n",
        "* **`y_test`**: arreglo de tamaño $(n, )$ con las valores reales de la etiqueta del conjunto de pruebas.\n",
        "\n",
        "**Salida**:\n",
        "\n",
        "* **`acc`**: exactitud o *accuracy* de predicción del modelo.\n",
        "* **`err`**: error de predicción del modelo."
      ]
    },
    {
      "cell_type": "code",
      "metadata": {
        "id": "2DYxnzFca7zn"
      },
      "source": [
        "# FUNCIÓN CALIFICADA evaluate_model:\n",
        "\n",
        "# Módulo necesario para realizar el ejercicio.\n",
        "from sklearn import metrics\n",
        "\n",
        "def evaluate_model(model, X_test, y_test):\n",
        "  \"\"\"\n",
        "    model: modelo de clasificación entrenado\n",
        "    X_test: una matriz de datos, arreglo de NumPy, arreglo de numpy con shape (n, m)\n",
        "    y_test: vector de etiquetas reales, arreglo de NumPy con shape (n,)\n",
        "\n",
        "  Retorna:\n",
        "   acc, err: una tupla (exactitud, error)\n",
        "   donde la exactitud y el error se calculan asumiendo que y son\n",
        "   las etiquetas reales de los ejemplos en X.\n",
        "  \"\"\"\n",
        "  ### ESCRIBA SU CÓDIGO AQUÍ ### (~ 4 líneas de código)\n",
        "  y_pred = model.predict(X_test)\n",
        "  acc = metrics.accuracy_score(y_test, y_pred)\n",
        "  err = 1-acc\n",
        "\n",
        "  ### FIN DEL CÓDIGO ###\n",
        "  return acc, err"
      ],
      "execution_count": 60,
      "outputs": []
    },
    {
      "cell_type": "markdown",
      "metadata": {
        "id": "U8YzTaJEuTDc"
      },
      "source": [
        "Use la siguiente celda para probar su función:"
      ]
    },
    {
      "cell_type": "code",
      "metadata": {
        "id": "VfBXPZfAWiyG",
        "colab": {
          "base_uri": "https://localhost:8080/"
        },
        "outputId": "ac9b2bc5-ce8e-43e1-b5b1-4458ae259bb1"
      },
      "source": [
        "#TEST_CELL\n",
        "\n",
        "# Datasets sintéticos de prueba.\n",
        "X, y = datasets.make_blobs(random_state = 123)\n",
        "\n",
        "# El modelo es entrenado con la función\n",
        "# realizada en el punto 5.\n",
        "model = train_logistic_regression(X, y)\n",
        "if isinstance(model, linear_model._logistic.LogisticRegression):\n",
        "  acc, err = evaluate_model(model, X, y)\n",
        "  if isinstance(acc, Number) and isinstance(err, Number):\n",
        "    print(f'Exactitud: {acc:.4f}, error: {err:.4f}')\n",
        "  else:\n",
        "    print(\"Alguna de las variables no es un número válido.\")\n",
        "else: print(\"El modelo entrenado no es válido. Revise el ejercicio 5 antes de continuar.\")"
      ],
      "execution_count": 61,
      "outputs": [
        {
          "output_type": "stream",
          "name": "stdout",
          "text": [
            "Exactitud: 0.9300, error: 0.0700\n"
          ]
        }
      ]
    },
    {
      "cell_type": "markdown",
      "metadata": {
        "id": "q2rSY7ZRu0yK"
      },
      "source": [
        "**Salida esperada:**\n",
        "\n",
        "```\n",
        "Exactitud: 0.9300, error: 0.0700\n",
        "```"
      ]
    },
    {
      "cell_type": "markdown",
      "metadata": {
        "id": "pigVs1BmnkFn"
      },
      "source": [
        "<details>    \n",
        "<summary>\n",
        "    <font size=\"3\" color=\"darkgreen\"><b>Pista 1</b></font>\n",
        "</summary>\n",
        "\n",
        "* Para evaluar la exactitud de la predicción deberá inicialmente predecir los valores del conjunto de prueba **`X`** con el método **`predict`** para comparar el resultado con los valores reales almacenados en **`y`**.\n"
      ]
    },
    {
      "cell_type": "markdown",
      "metadata": {
        "id": "YhV-ODISnRPv"
      },
      "source": [
        "<details>    \n",
        "<summary>\n",
        "    <font size=\"3\" color=\"darkgreen\"><b>Pista 2</b></font>\n",
        "</summary>\n",
        "\n",
        "* Utilice la función **`accuracy_score`** del módulo **`sklearn.metrics`** tal como se vio en el taller guiado.\n"
      ]
    },
    {
      "cell_type": "markdown",
      "metadata": {
        "id": "ClxMFDnaoNs_"
      },
      "source": [
        "## **7. Entrenamiento de modelo con diferentes variables de pétalos y sépalos**\n",
        "---\n",
        "\n",
        "> **Este punto es incremental, y dependerá de la correctitud de los puntos anteriores.**\n",
        "\n",
        "Complete la función **`train_iris_model`**, que deberá crear y entrenar un clasificador de regresión logística **`LogisticRegression`** con las particiones de entrenamiento y prueba generadas para una pareja de variables **`var_x`** y **`var_y`** dada.\n",
        "\n",
        "> **Realice llamados a las funciones que realizó en los primeros 6 ejercicios.**\n",
        "\n",
        "Para obtener los datos de entrenamiento deberá llevar a cabo el siguiente proceso:\n",
        "\n",
        "1. Cargar el conjunto de datos *Iris* (ejercicio 1).\n",
        "2. Seleccionar las variables dadas en los argumentos **`eje_x`** y **`eje_y`** (ejercicio 2).\n",
        "3. Reescalar los valores entre $0$ y $1$ (ejercicio 3).\n",
        "4. Particionar los datos para entrenamiento y pruebas usando un estado aleatorio dado con el argumento **`random_state`** y con $30\\%$ de los datos para pruebas (ejercicio 4).\n",
        "5. Declarar y entrenar un clasificador de regresión logística a partir de las particiones de entrenamiento (ejercicio 5).\n",
        "6. Evaluar la exactitud del modelo generado (ejercicio 6).\n",
        "\n",
        "Una vez terminado el proceso, deberá retornar el conjunto de datos original (**`X`** y **`y`**), el modelo entrenado (**`model`**) y la exactitud (**`acc`**).\n",
        "\n",
        "**Entrada**\n",
        "* **`var_x`**: número entero entre 0 y 3 que representa el índice de la variable a usar para el eje $x$.\n",
        "* **`var_y`**: número entero entre 0 y 3 que representa el índice de la variable a usar para el eje $y$.\n",
        "* **`random_state`**: número real a usar como semilla aleatoria.\n",
        "\n",
        "**Salida**:\n",
        "\n",
        "* **`X`**: arreglo de *NumPy* de tamaño $(n, 2)$ con los datos reescalados de las variables  de entrada en las columnas **`var_x`** y **`var_y`** (sin particionar).\n",
        "* **`y`**: arreglo de *NumPy* de tamaño $(n, )$ con todos los datos de la variable de salida o etiqueta (sin particionar).\n",
        "* **`model`**: modelo de regresión logística entrenado con una partición de entrenamiento de **`X`** y **`y`** generada con el estado aleatorio **`random_state`**.\n",
        "* **`acc`**: exactitud o *accuracy* del modelo de regresión logística evaluada con la partición de pruebas de **`X`** y **`y`** generada con el estado aleatorio **`random_state`**.\n",
        "\n"
      ]
    },
    {
      "cell_type": "code",
      "metadata": {
        "id": "4HPUXzPWg8SS"
      },
      "source": [
        "# FUNCIÓN CALIFICADA train_iris_model:\n",
        "\n",
        "def train_iris_model(var_x, var_y,\n",
        "  # No modifique el valor por defecto de la función.\n",
        "                     random_state = 100):\n",
        "  \"\"\"\n",
        "    var_x: número entero entre 0 y 3, índice de la variable a usar para el eje x.\n",
        "    var_y: número entero entre 0 y 3, índice de la variable a usar para el eje y.\n",
        "    random_state: semilla aleatoria, número real entre 0 y 1.\n",
        "  Retorna:\n",
        "    X: arreglo de NumPy original con los datos reescalados de las variables de entrada en las columnas var_x y var_y (sin particionar).\n",
        "    y: arreglo de NumPy original con todos los datos de la variable de salida o etiqueta (sin particionar).\n",
        "    model: modelo de regresión logística entrenado con una partición de entrenamiento de X y y generada con el estado aleatorio random_state.\n",
        "    acc: exactitud o accuracy del modelo de regresión logística evaluada con la partición de pruebas de X y y generada con el estado aleatorio random_state.\n",
        "  \"\"\"\n",
        "  ### ESCRIBA SU CÓDIGO AQUÍ ### (~ 8-10 líneas de código)\n",
        "\n",
        "  # Cargamos el dataset (el punto 1 debe ser correcto).\n",
        "  X, y = load_X_y()\n",
        "\n",
        "  # Seleccionamos las columnas (el punto 2 debe ser correcto).\n",
        "  X = select_columns(X, [var_x,var_y])\n",
        "\n",
        "  # Reescalamos los datos de entrada (el punto 3 debe ser correcto).\n",
        "  X = minmax(X,0,1)\n",
        "\n",
        "  # Dividimos en particiones de entrenamiento y prueba (el punto 4 debe ser correcto).\n",
        "  X_train, X_test, y_train, y_test = get_split(X, y, p=0.3, random_state= random_state)\n",
        "\n",
        "  # Entrenamos el modelo de regresión logística (el punto 5 debe ser correcto).\n",
        "  model = train_logistic_regression(X_train, y_train)\n",
        "\n",
        "  # Evaluamos la exactitud y error del modelo (el punto 6 debe ser correcto).\n",
        "  acc, err = evaluate_model(model, X_test, y_test)\n",
        "\n",
        "  ### FIN DEL CÓDIGO ###\n",
        "\n",
        "  return X, y, model, acc"
      ],
      "execution_count": 88,
      "outputs": []
    },
    {
      "cell_type": "markdown",
      "metadata": {
        "id": "9Vp1Sc7CDBTi"
      },
      "source": [
        "Use las siguiente celda para probar su función:"
      ]
    },
    {
      "cell_type": "code",
      "metadata": {
        "id": "WkA5nGSpaC5y",
        "colab": {
          "base_uri": "https://localhost:8080/"
        },
        "outputId": "96c1a1f5-18ab-429d-adf6-2aa46030075c"
      },
      "source": [
        "#TEST_CELL\n",
        "X, y, model, acc = train_iris_model(3, 2)\n",
        "\n",
        "if np.all([ob is not None for ob in [X, y, model, acc]]):\n",
        "  print('Subconjunto de X:')\n",
        "  print( np.round(X[45:55, :], 4) )\n",
        "\n",
        "  print('\\nSubconjunto de y:')\n",
        "  print( y[45:55] )\n",
        "\n",
        "  print('\\nPredicción del modelo:')\n",
        "  print(model.predict( X[45:55, :] ))\n",
        "\n",
        "  print(f'\\nExactitud en prueba: {acc:.4f}')\n",
        "else:\n",
        "  print(\"Alguno de los objetos retornados no ha sido declarado correctamente.\")"
      ],
      "execution_count": 89,
      "outputs": [
        {
          "output_type": "stream",
          "name": "stdout",
          "text": [
            "Subconjunto de X:\n",
            "[[0.0833 0.0678]\n",
            " [0.0417 0.1017]\n",
            " [0.0417 0.0678]\n",
            " [0.0417 0.0847]\n",
            " [0.0417 0.0678]\n",
            " [0.5417 0.6271]\n",
            " [0.5833 0.5932]\n",
            " [0.5833 0.661 ]\n",
            " [0.5    0.5085]\n",
            " [0.5833 0.6102]]\n",
            "\n",
            "Subconjunto de y:\n",
            "[0 0 0 0 0 1 1 1 1 1]\n",
            "\n",
            "Predicción del modelo:\n",
            "[0 0 0 0 0 1 1 1 1 1]\n",
            "\n",
            "Exactitud en prueba: 0.9556\n"
          ]
        }
      ]
    },
    {
      "cell_type": "markdown",
      "metadata": {
        "id": "FD_aelwSgQW6"
      },
      "source": [
        "**Salida esperada**:\n",
        "\n",
        "```\n",
        "Subconjunto de X:\n",
        "[[0.0833 0.0678]\n",
        " [0.0417 0.1017]\n",
        " [0.0417 0.0678]\n",
        " [0.0417 0.0847]\n",
        " [0.0417 0.0678]\n",
        " [0.5417 0.6271]\n",
        " [0.5833 0.5932]\n",
        " [0.5833 0.661 ]\n",
        " [0.5    0.5085]\n",
        " [0.5833 0.6102]]\n",
        "\n",
        "Subconjunto de y:\n",
        "[0 0 0 0 0 1 1 1 1 1]\n",
        "\n",
        "Predicción del modelo:\n",
        "[0 0 0 0 0 1 1 1 1 1]\n",
        "\n",
        "Exactitud en prueba: 0.9556\n",
        "```"
      ]
    },
    {
      "cell_type": "code",
      "metadata": {
        "id": "tnxLGLIXwrlK",
        "colab": {
          "base_uri": "https://localhost:8080/",
          "height": 598
        },
        "outputId": "02dc0bda-0f62-46eb-c19f-77e1d639f2ea"
      },
      "source": [
        "#TEST_CELL\n",
        "#@markdown Ejecute esta celda para graficar la región de decisión del clasificador entrenado.\n",
        "#@markdown > Las regiones de decisión ayudan a visualizar las predicciones de un modelo. Cada región (coloreada de colores distintos) indica que el modelo predice la clase asociada con el color para todos los ejemplos (puntos) incluidos en la región.\n",
        "\n",
        "def plot_decision_region(pair):\n",
        "\n",
        "  X, y, model, acc = train_iris_model(pair[0], pair[1])\n",
        "\n",
        "  if np.any([ob is None for ob in [X, y, model, acc]]):\n",
        "    print(\"Alguno de los objetos retornados no ha sido declarado correctamente.\")\n",
        "    return\n",
        "\n",
        "  fig, ax = plt.subplots(figsize = (8, 6), dpi=100)\n",
        "\n",
        "  target_names = ['setosa', 'versicolor', 'virginica']\n",
        "  feature_names =  ['sepal length (cm)', 'sepal width (cm)', 'petal length (cm)', 'petal width (cm)']\n",
        "\n",
        "  x_min, x_max = X[:, 0].min() - 1, X[:, 0].max() + 1\n",
        "  y_min, y_max = X[:, 1].min() - 1, X[:, 1].max() + 1\n",
        "\n",
        "  xx, yy = np.meshgrid(np.arange(x_min, x_max, 0.01),\n",
        "                        np.arange(y_min, y_max, 0.01))\n",
        "\n",
        "  Z = model.predict(np.c_[xx.ravel(), yy.ravel()])\n",
        "  Z = Z.reshape(xx.shape)\n",
        "\n",
        "  title = f'Regresión logística - región de decisión\\n(exactitud de {acc*100:.2f} % en pruebas)'\n",
        "\n",
        "  ax.contourf(xx, yy, Z, cmap=plt.cm.Spectral)\n",
        "\n",
        "  ax.set_xlabel(feature_names[pair[0]][:-4])\n",
        "  ax.set_ylabel(feature_names[pair[1]][:-4])\n",
        "\n",
        "  # Plot the training points\n",
        "  for i, color in zip(range(3), \"ryb\"):\n",
        "      idx = np.where(y == i)\n",
        "      ax.scatter(X[idx, 0], X[idx, 1], c=color, label=target_names[i],\n",
        "                  cmap=plt.cm.RdYlBu, edgecolor='black', s=30)\n",
        "  ax.legend(loc='lower right', borderpad=0, handletextpad=0)\n",
        "\n",
        "  ax.set_ymargin(0.5)\n",
        "  ax.set_title(title, fontsize = 18)\n",
        "  ax.set_xlim([-0.25,1.25])\n",
        "  ax.set_ylim([-0.25,1.25])\n",
        "\n",
        "feature_names =  ['sepal length (cm)', 'sepal width (cm)', 'petal length (cm)', 'petal width (cm)']\n",
        "eje_x = \"sepal length (cm)\" #@param [\"sepal length (cm)\", \"sepal width (cm)\", \"petal length (cm)\", \"petal width (cm)\"]\n",
        "eje_y = 'petal length (cm)'  #@param ['sepal length (cm)', 'sepal width (cm)', 'petal length (cm)', 'petal width (cm)']\n",
        "\n",
        "pair= [feature_names.index(eje_x), feature_names.index(eje_y)]\n",
        "\n",
        "plot_decision_region(pair)\n",
        "#@markdown > **Nota**: Esta celda contiene código para la generación de visualizaciones y está oculto por defecto (solo para *Google Colaboratory*). Si desea revisar su contenido haga clic secundario en la celda (costado izquierdo de color gris) y seleccione las opciones **`Formulario|Form`** y **`Mostrar código|Show code`**."
      ],
      "execution_count": 75,
      "outputs": [
        {
          "output_type": "display_data",
          "data": {
            "text/plain": [
              "<Figure size 800x600 with 1 Axes>"
            ],
            "image/png": "[encoded data removed]"
          },
          "metadata": {}
        }
      ]
    },
    {
      "cell_type": "markdown",
      "metadata": {
        "id": "g53GYDw1oWx_"
      },
      "source": [
        "<details>    \n",
        "<summary>\n",
        "    <font size=\"3\" color=\"darkgreen\"><b>Pista 1</b></font>\n",
        "</summary>\n",
        "\n",
        "* Todos los pasos de la solución de este ejercicio se pueden resolver con llamados a las funciones realizadas en puntos anteriores. No es necesario que reescriba código usado en estas soluciones.\n"
      ]
    },
    {
      "cell_type": "markdown",
      "metadata": {
        "id": "p4kX_2m6oWyA"
      },
      "source": [
        "<details>    \n",
        "<summary>\n",
        "    <font size=\"3\" color=\"darkgreen\"><b>Pista 2</b></font>\n",
        "</summary>\n",
        "\n",
        "* Deberá declarar los valores de las dos variables **`var_x`** y **`var_y`** en una lista antes de usarlo como argumento de la función **`select_columns`**.\n"
      ]
    },
    {
      "cell_type": "markdown",
      "metadata": {
        "id": "YIhXMDI8o5mF"
      },
      "source": [
        "<details>    \n",
        "<summary>\n",
        "    <font size=\"3\" color=\"darkgreen\"><b>Pista 3</b></font>\n",
        "</summary>\n",
        "\n",
        "* Algunos argumentos de las funciones de puntos anteriores, como el mínimo y máximo del reescalado y el tamaño de la partición de pruebas, son valores fijos mencionados en el enunciado. No olvide usar el valor dado de **`random_state`** para obtener una respuesta reproducible.\n"
      ]
    },
    {
      "cell_type": "markdown",
      "metadata": {
        "id": "zdOVaxKBpZrd"
      },
      "source": [
        "<details>    \n",
        "<summary>\n",
        "    <font size=\"3\" color=\"darkgreen\"><b>Pista 4</b></font>\n",
        "</summary>\n",
        "\n",
        "* La variable **`X`** se debería actualizar con la selección de características y el reescalado. No debería retornar la matriz original con las $4$ variables en su escala original.\n"
      ]
    },
    {
      "cell_type": "markdown",
      "metadata": {
        "id": "n3CTGNUcqS1u"
      },
      "source": [
        "<details>    \n",
        "<summary>\n",
        "    <font size=\"3\" color=\"darkgreen\"><b>Pista 5</b></font>\n",
        "</summary>\n",
        "\n",
        "* Recuerde que deberá utilizar la partición de entrenamiento para la construcción del modelo (**función del ejercicio 5**) y la partición de pruebas para la evaluación (**función del ejercicio 6**).\n"
      ]
    },
    {
      "cell_type": "markdown",
      "metadata": {
        "id": "QrU5ELZuMyF6"
      },
      "source": [
        "**¡Felicitaciones!** Ha terminado la tarea de la Unidad 1. ¡Buen trabajo!\n",
        "\n",
        "## **Entrega**\n",
        "\n",
        "Para entregar el notebook por favor haga lo siguiente:\n",
        "1. Descargue el notebook (`Archivo` -> `Descargar .ipynb`).\n",
        "2. Ingrese a *Moodle*.\n",
        "3. Realice el envío del *notebook* que descargó en la tarea (o quiz) correspondiente.\n",
        "4. Recuerde que si tiene algún error, puede hacer múltiples intentos de envío en *UNCode*."
      ]
    },
    {
      "cell_type": "markdown",
      "metadata": {
        "id": "B4Zv4dF3ieMk"
      },
      "source": [
        "## **Créditos**\n",
        "---\n",
        "\n",
        "* **Profesor:** [Fabio Augusto González](https://dis.unal.edu.co/~fgonza/)\n",
        "* **Asistentes docentes:**\n",
        "  * Miguel Angel Ortiz Marín\n",
        "  * Alberto Nicolai Romero Martínez\n",
        "\n",
        "**Universidad Nacional de Colombia** - *Facultad de Ingeniería*"
      ]
    }
  ]
}